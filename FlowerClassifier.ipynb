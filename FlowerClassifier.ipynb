{
 "cells": [
  {
   "cell_type": "code",
   "execution_count": 1,
   "id": "3c9fe16c",
   "metadata": {},
   "outputs": [
    {
     "name": "stderr",
     "output_type": "stream",
     "text": [
      "\u001b[32m\u001b[1m    Updating\u001b[22m\u001b[39m registry at `~/.julia/registries/General`\n",
      "\u001b[32m\u001b[1m   Installed\u001b[22m\u001b[39m InlineStrings ────── v1.1.1\n",
      "\u001b[32m\u001b[1m   Installed\u001b[22m\u001b[39m Glib_jll ─────────── v2.68.3+2\n",
      "\u001b[32m\u001b[1m   Installed\u001b[22m\u001b[39m Cairo_jll ────────── v1.16.1+1\n",
      "\u001b[32m\u001b[1m   Installed\u001b[22m\u001b[39m NaNMath ──────────── v0.3.6\n",
      "\u001b[32m\u001b[1m   Installed\u001b[22m\u001b[39m Parsers ──────────── v2.1.3\n",
      "\u001b[32m\u001b[1m   Installed\u001b[22m\u001b[39m Tables ───────────── v1.6.1\n",
      "\u001b[32m\u001b[1m   Installed\u001b[22m\u001b[39m Distributions ────── v0.25.36\n",
      "\u001b[32m\u001b[1m   Installed\u001b[22m\u001b[39m PlotUtils ────────── v1.1.1\n",
      "\u001b[32m\u001b[1m   Installed\u001b[22m\u001b[39m Requires ─────────── v1.2.0\n",
      "\u001b[32m\u001b[1m   Installed\u001b[22m\u001b[39m LogExpFunctions ──── v0.3.6\n",
      "\u001b[32m\u001b[1m   Installed\u001b[22m\u001b[39m Compat ───────────── v3.41.0\n",
      "\u001b[32m\u001b[1m   Installed\u001b[22m\u001b[39m SpecialFunctions ─── v2.0.0\n",
      "\u001b[32m\u001b[1m   Installed\u001b[22m\u001b[39m DataStructures ───── v0.18.11\n",
      "\u001b[32m\u001b[1m   Installed\u001b[22m\u001b[39m ChangesOfVariables ─ v0.1.2\n",
      "\u001b[32m\u001b[1m   Installed\u001b[22m\u001b[39m Interpolations ───── v0.13.5\n",
      "\u001b[32m\u001b[1m   Installed\u001b[22m\u001b[39m Plots ────────────── v1.25.2\n",
      "\u001b[32m\u001b[1m    Updating\u001b[22m\u001b[39m `~/.julia/environments/v1.6/Project.toml`\n",
      " \u001b[90m [91a5bcdd] \u001b[39m\u001b[93m↑ Plots v1.25.1 ⇒ v1.25.2\u001b[39m\n",
      "\u001b[32m\u001b[1m    Updating\u001b[22m\u001b[39m `~/.julia/environments/v1.6/Manifest.toml`\n",
      " \u001b[90m [9e997f8a] \u001b[39m\u001b[93m↑ ChangesOfVariables v0.1.1 ⇒ v0.1.2\u001b[39m\n",
      " \u001b[90m [34da2185] \u001b[39m\u001b[93m↑ Compat v3.40.0 ⇒ v3.41.0\u001b[39m\n",
      " \u001b[90m [864edb3b] \u001b[39m\u001b[93m↑ DataStructures v0.18.10 ⇒ v0.18.11\u001b[39m\n",
      " \u001b[90m [31c24e10] \u001b[39m\u001b[93m↑ Distributions v0.25.34 ⇒ v0.25.36\u001b[39m\n",
      " \u001b[90m [842dd82b] \u001b[39m\u001b[93m↑ InlineStrings v1.1.0 ⇒ v1.1.1\u001b[39m\n",
      " \u001b[90m [a98d9a8b] \u001b[39m\u001b[93m↑ Interpolations v0.13.4 ⇒ v0.13.5\u001b[39m\n",
      " \u001b[90m [2ab3a3ac] \u001b[39m\u001b[93m↑ LogExpFunctions v0.3.5 ⇒ v0.3.6\u001b[39m\n",
      " \u001b[90m [77ba4419] \u001b[39m\u001b[93m↑ NaNMath v0.3.5 ⇒ v0.3.6\u001b[39m\n",
      " \u001b[90m [69de0a69] \u001b[39m\u001b[93m↑ Parsers v2.1.2 ⇒ v2.1.3\u001b[39m\n",
      " \u001b[90m [995b91a9] \u001b[39m\u001b[93m↑ PlotUtils v1.0.15 ⇒ v1.1.1\u001b[39m\n",
      " \u001b[90m [91a5bcdd] \u001b[39m\u001b[93m↑ Plots v1.25.1 ⇒ v1.25.2\u001b[39m\n",
      " \u001b[90m [ae029012] \u001b[39m\u001b[93m↑ Requires v1.1.3 ⇒ v1.2.0\u001b[39m\n",
      " \u001b[90m [276daf66] \u001b[39m\u001b[93m↑ SpecialFunctions v1.8.1 ⇒ v2.0.0\u001b[39m\n",
      " \u001b[90m [bd369af6] \u001b[39m\u001b[93m↑ Tables v1.6.0 ⇒ v1.6.1\u001b[39m\n",
      " \u001b[90m [83423d85] \u001b[39m\u001b[93m↑ Cairo_jll v1.16.1+0 ⇒ v1.16.1+1\u001b[39m\n",
      " \u001b[90m [7746bdde] \u001b[39m\u001b[93m↑ Glib_jll v2.68.3+1 ⇒ v2.68.3+2\u001b[39m\n",
      "\u001b[32m\u001b[1mPrecompiling\u001b[22m\u001b[39m project...\n",
      "\u001b[32m  ✓ \u001b[39m\u001b[90mNaNMath\u001b[39m\n",
      "\u001b[32m  ✓ \u001b[39m\u001b[90mRequires\u001b[39m\n",
      "\u001b[32m  ✓ \u001b[39m\u001b[90mCompat\u001b[39m\n",
      "\u001b[32m  ✓ \u001b[39m\u001b[90mRatios\u001b[39m\n",
      "\u001b[32m  ✓ \u001b[39m\u001b[90mTables\u001b[39m\n",
      "\u001b[32m  ✓ \u001b[39m\u001b[90mMocking\u001b[39m\n",
      "\u001b[32m  ✓ \u001b[39m\u001b[90mGlib_jll\u001b[39m\n",
      "\u001b[32m  ✓ \u001b[39m\u001b[90mCategoricalArrays\u001b[39m\n",
      "\u001b[32m  ✓ \u001b[39m\u001b[90mLatexify\u001b[39m\n",
      "\u001b[32m  ✓ \u001b[39m\u001b[90mChainRulesCore\u001b[39m\n",
      "\u001b[32m  ✓ \u001b[39m\u001b[90mFileIO\u001b[39m\n",
      "\u001b[32m  ✓ \u001b[39m\u001b[90mDataStructures\u001b[39m\n",
      "\u001b[32m  ✓ \u001b[39m\u001b[90mCairo_jll\u001b[39m\n",
      "\u001b[32m  ✓ \u001b[39m\u001b[90mChangesOfVariables\u001b[39m\n",
      "\u001b[32m  ✓ \u001b[39m\u001b[90mStructArrays\u001b[39m\n",
      "\u001b[32m  ✓ \u001b[39m\u001b[90mQt5Base_jll\u001b[39m\n",
      "\u001b[32m  ✓ \u001b[39m\u001b[90mSortingAlgorithms\u001b[39m\n",
      "\u001b[33m  ✓ \u001b[39m\u001b[90mParsers\u001b[39m\n",
      "\u001b[32m  ✓ \u001b[39mWAV\n",
      "\u001b[32m  ✓ \u001b[39m\u001b[90mQuadGK\u001b[39m\n",
      "\u001b[32m  ✓ \u001b[39m\u001b[90mHarfBuzz_jll\u001b[39m\n",
      "\u001b[33m  ✓ \u001b[39m\u001b[90mJSON\u001b[39m\n",
      "\u001b[32m  ✓ \u001b[39m\u001b[90mInlineStrings\u001b[39m\n",
      "\u001b[32m  ✓ \u001b[39m\u001b[90mLogExpFunctions\u001b[39m\n",
      "\u001b[33m  ✓ \u001b[39m\u001b[90mConda\u001b[39m\n",
      "\u001b[32m  ✓ \u001b[39m\u001b[90mInterpolations\u001b[39m\n",
      "\u001b[32m  ✓ \u001b[39m\u001b[90mlibass_jll\u001b[39m\n",
      "\u001b[33m  ✓ \u001b[39mIJulia\n",
      "\u001b[32m  ✓ \u001b[39m\u001b[90mStatsBase\u001b[39m\n",
      "\u001b[32m  ✓ \u001b[39m\u001b[90mFFMPEG_jll\u001b[39m\n",
      "\u001b[32m  ✓ \u001b[39m\u001b[90mTimeZones\u001b[39m\n",
      "\u001b[32m  ✓ \u001b[39m\u001b[90mCoupledFields\u001b[39m\n",
      "\u001b[32m  ✓ \u001b[39m\u001b[90mPlotUtils\u001b[39m\n",
      "\u001b[32m  ✓ \u001b[39m\u001b[90mFFMPEG\u001b[39m\n",
      "\u001b[32m  ✓ \u001b[39m\u001b[90mSpecialFunctions\u001b[39m\n",
      "\u001b[32m  ✓ \u001b[39m\u001b[90mGR_jll\u001b[39m\n",
      "\u001b[32m  ✓ \u001b[39mPyCall\n",
      "\u001b[32m  ✓ \u001b[39m\u001b[90mCompose\u001b[39m\n",
      "\u001b[32m  ✓ \u001b[39m\u001b[90mGeometryBasics\u001b[39m\n",
      "\u001b[32m  ✓ \u001b[39m\u001b[90mIntervals\u001b[39m\n",
      "\u001b[32m  ✓ \u001b[39m\u001b[90mRecipesPipeline\u001b[39m\n",
      "\u001b[32m  ✓ \u001b[39m\u001b[90mStatsFuns\u001b[39m\n",
      "\u001b[32m  ✓ \u001b[39m\u001b[90mGR\u001b[39m\n",
      "\u001b[32m  ✓ \u001b[39m\u001b[90mPlotThemes\u001b[39m\n",
      "\u001b[32m  ✓ \u001b[39mPolynomials\n",
      "\u001b[32m  ✓ \u001b[39m\u001b[90mDistributions\u001b[39m\n",
      "\u001b[32m  ✓ \u001b[39m\u001b[90mKernelDensity\u001b[39m\n",
      "\u001b[32m  ✓ \u001b[39mDSP\n",
      "\u001b[32m  ✓ \u001b[39mGadfly\n",
      "\u001b[32m  ✓ \u001b[39mPlots\n",
      "  50 dependencies successfully precompiled in 61 seconds (123 already precompiled)\n",
      "  \u001b[33m4\u001b[39m dependencies precompiled but different versions are currently loaded. Restart julia to access the new versions\n",
      "\u001b[32m\u001b[1m   Resolving\u001b[22m\u001b[39m package versions...\n",
      "\u001b[32m\u001b[1m  No Changes\u001b[22m\u001b[39m to `~/.julia/environments/v1.6/Project.toml`\n",
      "\u001b[32m\u001b[1m  No Changes\u001b[22m\u001b[39m to `~/.julia/environments/v1.6/Manifest.toml`\n",
      "\u001b[32m\u001b[1mPrecompiling\u001b[22m\u001b[39m project...\n",
      "\u001b[33m  ✓ \u001b[39m\u001b[90mConda\u001b[39m\n",
      "\u001b[32m  ✓ \u001b[39m\u001b[90mInlineStrings\u001b[39m\n",
      "\u001b[33m  ✓ \u001b[39mIJulia\n",
      "\u001b[32m  ✓ \u001b[39m\u001b[90mTimeZones\u001b[39m\n",
      "\u001b[32m  ✓ \u001b[39mPyCall\n",
      "\u001b[32m  ✓ \u001b[39m\u001b[90mIntervals\u001b[39m\n",
      "\u001b[32m  ✓ \u001b[39mPolynomials\n",
      "\u001b[32m  ✓ \u001b[39mDSP\n",
      "\u001b[32m  ✓ \u001b[39mPlots\n",
      "  9 dependencies successfully precompiled in 43 seconds (164 already precompiled)\n",
      "  \u001b[33m2\u001b[39m dependencies precompiled but different versions are currently loaded. Restart julia to access the new versions\n"
     ]
    }
   ],
   "source": [
    "import Pkg\n",
    "Pkg.update()\n",
    "Pkg.add(\"LinearAlgebra\")"
   ]
  },
  {
   "cell_type": "code",
   "execution_count": 2,
   "id": "f16d86c4",
   "metadata": {},
   "outputs": [],
   "source": [
    "using LinearAlgebra"
   ]
  },
  {
   "cell_type": "code",
   "execution_count": 3,
   "id": "b3c89f21",
   "metadata": {},
   "outputs": [
    {
     "name": "stderr",
     "output_type": "stream",
     "text": [
      "\u001b[32m\u001b[1m   Resolving\u001b[22m\u001b[39m package versions...\n",
      "\u001b[32m\u001b[1m  No Changes\u001b[22m\u001b[39m to `~/.julia/environments/v1.6/Project.toml`\n",
      "\u001b[32m\u001b[1m  No Changes\u001b[22m\u001b[39m to `~/.julia/environments/v1.6/Manifest.toml`\n",
      "\u001b[32m\u001b[1mPrecompiling\u001b[22m\u001b[39m project...\n",
      "\u001b[33m  ✓ \u001b[39m\u001b[90mConda\u001b[39m\n",
      "\u001b[32m  ✓ \u001b[39m\u001b[90mInlineStrings\u001b[39m\n",
      "\u001b[33m  ✓ \u001b[39mIJulia\n",
      "\u001b[32m  ✓ \u001b[39m\u001b[90mTimeZones\u001b[39m\n",
      "\u001b[32m  ✓ \u001b[39mPyCall\n",
      "\u001b[32m  ✓ \u001b[39m\u001b[90mIntervals\u001b[39m\n",
      "\u001b[32m  ✓ \u001b[39mPolynomials\n",
      "\u001b[32m  ✓ \u001b[39mDSP\n",
      "\u001b[32m  ✓ \u001b[39mPlots\n",
      "  9 dependencies successfully precompiled in 35 seconds (164 already precompiled)\n",
      "  \u001b[33m2\u001b[39m dependencies precompiled but different versions are currently loaded. Restart julia to access the new versions\n"
     ]
    }
   ],
   "source": [
    "Pkg.add(\"Statistics\")\n",
    "using Statistics"
   ]
  },
  {
   "cell_type": "code",
   "execution_count": 4,
   "id": "415afd33",
   "metadata": {},
   "outputs": [
    {
     "data": {
      "text/plain": [
       "confusion_matrix (generic function with 1 method)"
      ]
     },
     "execution_count": 4,
     "metadata": {},
     "output_type": "execute_result"
    }
   ],
   "source": [
    "include(\"iris_flower_data.jl\")\n",
    "include(\"iris_multiclass_helpers.jl\")"
   ]
  },
  {
   "cell_type": "code",
   "execution_count": 5,
   "id": "2a3bf2ef",
   "metadata": {},
   "outputs": [
    {
     "data": {
      "text/plain": [
       "50-element Vector{Float64}:\n",
       " 2.0\n",
       " 3.0\n",
       " 2.0\n",
       " 2.0\n",
       " 1.0\n",
       " 1.0\n",
       " 3.0\n",
       " 3.0\n",
       " 3.0\n",
       " 2.0\n",
       " 1.0\n",
       " 1.0\n",
       " 3.0\n",
       " ⋮\n",
       " 1.0\n",
       " 2.0\n",
       " 1.0\n",
       " 2.0\n",
       " 2.0\n",
       " 1.0\n",
       " 3.0\n",
       " 1.0\n",
       " 2.0\n",
       " 1.0\n",
       " 2.0\n",
       " 1.0"
      ]
     },
     "execution_count": 5,
     "metadata": {},
     "output_type": "execute_result"
    }
   ],
   "source": [
    "X_t = transpose(X)\n",
    "\n",
    "X_train = X_t[1:100, 1:4]\n",
    "\n",
    "Y_train = y[1:100]\n",
    "\n",
    "X_test = X_t[101: 150, 1:4]\n",
    "\n",
    "Y_test = y[101:150]"
   ]
  },
  {
   "cell_type": "code",
   "execution_count": 6,
   "id": "78194bfc",
   "metadata": {},
   "outputs": [
    {
     "data": {
      "text/plain": [
       "setosa_func (generic function with 1 method)"
      ]
     },
     "execution_count": 6,
     "metadata": {},
     "output_type": "execute_result"
    }
   ],
   "source": [
    "setosa_trainY = zeros(100)\n",
    "for i in 1:100\n",
    "    if Y_train[i] == 1\n",
    "        setosa_trainY[i] = 1\n",
    "    else\n",
    "        setosa_trainY[i] = -1\n",
    "    end\n",
    "end\n",
    "\n",
    "setosa_testY = zeros(50)\n",
    "for i in 1:50\n",
    "    if Y_test[i] == 1\n",
    "        setosa_testY[i] = 1\n",
    "    else\n",
    "        setosa_testY[i] = -1\n",
    "    end\n",
    "end\n",
    "\n",
    "setosa = X_train\\setosa_trainY\n",
    "\n",
    "function setosa_func(x)\n",
    "    f = x[1]*setosa[1] + x[2]*setosa[2] + x[3]*setosa[3] + x[4]*setosa[4]\n",
    "    if f >= 0\n",
    "        return 1.0\n",
    "    else\n",
    "        return -1.0\n",
    "    end\n",
    "end"
   ]
  },
  {
   "cell_type": "code",
   "execution_count": 7,
   "id": "8ca7e52a",
   "metadata": {},
   "outputs": [
    {
     "name": "stdout",
     "output_type": "stream",
     "text": [
      "Setosa Training Accuracy: 100.0 Setosa Test Accuracy: 100.0"
     ]
    }
   ],
   "source": [
    "correct_training = 0\n",
    "correct_test = 0\n",
    "\n",
    "for i in 1:50\n",
    "    if setosa_func(X_test[i, 1:4]) - Y_test[i] <= 0.01\n",
    "        correct_test += 1\n",
    "    end\n",
    "   \n",
    "end\n",
    "\n",
    "for i in 1:100\n",
    "    if setosa_func(X_train[i, 1:4]) - Y_train[i] <= 0.01\n",
    "        correct_training += 1\n",
    "    end\n",
    "   \n",
    "end\n",
    "\n",
    "print(\"Setosa Training Accuracy: \", (correct_training / 100) * 100, \" \")\n",
    "print(\"Setosa Test Accuracy: \", (correct_test / 50) * 100)"
   ]
  },
  {
   "cell_type": "code",
   "execution_count": 8,
   "id": "a74e04aa",
   "metadata": {},
   "outputs": [
    {
     "data": {
      "text/plain": [
       "4-element Vector{Float64}:\n",
       "  0.44213815089788006\n",
       " -0.8538243912967147\n",
       "  0.13418476023699685\n",
       " -0.7048174071960329"
      ]
     },
     "execution_count": 8,
     "metadata": {},
     "output_type": "execute_result"
    }
   ],
   "source": [
    "\n",
    "versicolor_trainY = zeros(100)\n",
    "for i in 1:100\n",
    "    if Y_train[i] == 2\n",
    "        versicolor_trainY[i] = 1\n",
    "    else\n",
    "        versicolor_trainY[i] = -1\n",
    "    end\n",
    "end\n",
    "\n",
    "versicolor_testY = zeros(50)\n",
    "for i in 1:50\n",
    "    if Y_train[i] == 2\n",
    "        versicolor_testY[i] = 1\n",
    "    else\n",
    "        versicolor_testY[i] = -1\n",
    "    end\n",
    "end\n",
    "\n",
    "versicolor = X_train\\versicolor_trainY"
   ]
  },
  {
   "cell_type": "code",
   "execution_count": 9,
   "id": "7504d334",
   "metadata": {},
   "outputs": [
    {
     "name": "stdout",
     "output_type": "stream",
     "text": [
      "Versicolor Training Accuracy: 100.0 Versicolor Test Accuracy: 100.0"
     ]
    }
   ],
   "source": [
    "function versicolor_func(x)\n",
    "    f = x[1]*versicolor[1] + x[2]*versicolor[2] + x[3]*versicolor[3] + x[4]*versicolor[4]\n",
    "    if f >= 0\n",
    "        return 1.0\n",
    "    else\n",
    "        return -1.0\n",
    "    end\n",
    "end\n",
    "\n",
    "correct_training = 0\n",
    "correct_test = 0\n",
    "\n",
    "for i in 1:50\n",
    "    if versicolor_func(X_test[i, 1:4]) - Y_test[i] <= 0.01\n",
    "        correct_test += 1\n",
    "    end\n",
    "   \n",
    "end\n",
    "\n",
    "for i in 1:100\n",
    "    if versicolor_func(X_train[i, 1:4]) - Y_train[i] <= 0.01\n",
    "        correct_training += 1\n",
    "    end\n",
    "   \n",
    "end\n",
    "\n",
    "print(\"Versicolor Training Accuracy: \", (correct_training / 100) * 100, \" \")\n",
    "print(\"Versicolor Test Accuracy: \", (correct_test / 50) * 100)"
   ]
  },
  {
   "cell_type": "code",
   "execution_count": 10,
   "id": "611aedae",
   "metadata": {},
   "outputs": [
    {
     "data": {
      "text/plain": [
       "4-element Vector{Float64}:\n",
       " -0.534378082352365\n",
       "  0.2834329969066022\n",
       "  0.20299034121861312\n",
       "  1.0001763685229135"
      ]
     },
     "execution_count": 10,
     "metadata": {},
     "output_type": "execute_result"
    }
   ],
   "source": [
    "virginica_trainY = zeros(100)\n",
    "for i in 1:100\n",
    "    if Y_train[i] == 3\n",
    "        virginica_trainY[i] = 1\n",
    "    else\n",
    "        virginica_trainY[i] = -1\n",
    "    end\n",
    "end\n",
    "\n",
    "virginica_testY = zeros(50)\n",
    "for i in 1:50\n",
    "    if Y_train[i] == 3\n",
    "        virginica_testY[i] = 1\n",
    "    else\n",
    "        virginica_testY[i] = -1\n",
    "    end\n",
    "end\n",
    "\n",
    "virginica = X_train\\virginica_trainY"
   ]
  },
  {
   "cell_type": "code",
   "execution_count": 11,
   "id": "09304c90",
   "metadata": {},
   "outputs": [
    {
     "name": "stdout",
     "output_type": "stream",
     "text": [
      "Versicolor Training Accuracy: 100.0 Virginica Accuracy Test Accuracy: 100.0"
     ]
    }
   ],
   "source": [
    "function virginica_func(x)\n",
    "    f = x[1]*virginica[1] + x[2]*virginica[2] + x[3]*virginica[3] + x[4]*virginica[4]\n",
    "    if f >= 0\n",
    "        return 1.0\n",
    "    else\n",
    "        return -1.0\n",
    "    end\n",
    "end\n",
    "\n",
    "correct_training = 0\n",
    "correct_test = 0\n",
    "\n",
    "for i in 1:50\n",
    "    if virginica_func(X_test[i, 1:4]) - Y_test[i] <= 0.01\n",
    "        correct_test += 1\n",
    "    end\n",
    "   \n",
    "end\n",
    "\n",
    "for i in 1:100\n",
    "    if virginica_func(X_train[i, 1:4]) - Y_train[i] <= 0.01\n",
    "        correct_training += 1\n",
    "    end\n",
    "   \n",
    "end\n",
    "\n",
    "print(\"Versicolor Training Accuracy: \", (correct_training / 100) * 100, \" \")\n",
    "print(\"Virginica Accuracy Test Accuracy: \", (correct_test / 50) * 100)"
   ]
  },
  {
   "cell_type": "code",
   "execution_count": 12,
   "id": "fa2a4573",
   "metadata": {},
   "outputs": [
    {
     "data": {
      "text/plain": [
       "150-element Vector{Float64}:\n",
       " 1.0\n",
       " 1.0\n",
       " 3.0\n",
       " 2.0\n",
       " 1.0\n",
       " 2.0\n",
       " 1.0\n",
       " 3.0\n",
       " 2.0\n",
       " 3.0\n",
       " 1.0\n",
       " 1.0\n",
       " 1.0\n",
       " ⋮\n",
       " 1.0\n",
       " 2.0\n",
       " 1.0\n",
       " 2.0\n",
       " 2.0\n",
       " 1.0\n",
       " 3.0\n",
       " 1.0\n",
       " 2.0\n",
       " 1.0\n",
       " 2.0\n",
       " 1.0"
      ]
     },
     "execution_count": 12,
     "metadata": {},
     "output_type": "execute_result"
    }
   ],
   "source": [
    "solution = X_train \\Y_train\n",
    "function classifier(x)\n",
    "    s = solution[1]*x[1] + solution[2]*x[2] + solution[3]*x[3] + solution[4]*x[4]\n",
    "    return round(s)\n",
    "end\n",
    "\n",
    "yHat = round.(X_t * solution)"
   ]
  },
  {
   "cell_type": "code",
   "execution_count": 13,
   "id": "f1784aad",
   "metadata": {},
   "outputs": [
    {
     "name": "stdout",
     "output_type": "stream",
     "text": [
      "[50.0 0.0 0.0; 0.0 47.0 3.0; 0.0 3.0 47.0]"
     ]
    }
   ],
   "source": [
    "c_matrix = confusion_matrix(yHat, y)\n",
    "print(c_matrix)"
   ]
  },
  {
   "cell_type": "code",
   "execution_count": null,
   "id": "34946868",
   "metadata": {},
   "outputs": [],
   "source": []
  }
 ],
 "metadata": {
  "kernelspec": {
   "display_name": "Julia 1.6.3",
   "language": "julia",
   "name": "julia-1.6"
  },
  "language_info": {
   "file_extension": ".jl",
   "mimetype": "application/julia",
   "name": "julia",
   "version": "1.6.3"
  }
 },
 "nbformat": 4,
 "nbformat_minor": 5
}
